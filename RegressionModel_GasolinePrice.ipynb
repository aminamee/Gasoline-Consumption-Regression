{
 "cells": [
  {
   "cell_type": "markdown",
   "metadata": {},
   "source": [
    "# Automated Variable Selection and Predictive Models\n",
    "## Gasoline Consumption Case"
   ]
  },
  {
   "cell_type": "code",
   "execution_count": 63,
   "metadata": {
    "collapsed": false
   },
   "outputs": [],
   "source": [
    "import pandas as pd\n",
    "import numpy as np\n",
    "import matplotlib.pyplot as plt\n",
    "%matplotlib inline\n",
    "\n",
    "\n",
    "import sys\n",
    "sys.path.append('/anaconda/lib/python2.7/site-packages')\n",
    "import seaborn as sns\n",
    "sns.set_style(\"darkgrid\")\n",
    "import statsmodels.api as sm\n",
    "import statsmodels.formula.api as smf\n",
    "import sklearn as sk\n",
    "from sklearn import feature_selection"
   ]
  },
  {
   "cell_type": "code",
   "execution_count": 64,
   "metadata": {
    "collapsed": false
   },
   "outputs": [
    {
     "data": {
      "text/plain": [
       "30"
      ]
     },
     "execution_count": 64,
     "metadata": {},
     "output_type": "execute_result"
    }
   ],
   "source": [
    "gasoline = pd.read_csv('chatterjee-hadi-gasoline.csv')\n",
    "len(gasoline)"
   ]
  },
  {
   "cell_type": "code",
   "execution_count": 65,
   "metadata": {
    "collapsed": false
   },
   "outputs": [
    {
     "data": {
      "text/html": [
       "<div>\n",
       "<table border=\"1\" class=\"dataframe\">\n",
       "  <thead>\n",
       "    <tr style=\"text-align: right;\">\n",
       "      <th></th>\n",
       "      <th>mpg</th>\n",
       "      <th>displacement</th>\n",
       "      <th>horsepower</th>\n",
       "      <th>torque</th>\n",
       "      <th>compression_ratio</th>\n",
       "      <th>rear_axle_ratio</th>\n",
       "      <th>carburetor_barrels</th>\n",
       "      <th>transmission_speeds</th>\n",
       "      <th>overall_length</th>\n",
       "      <th>width</th>\n",
       "      <th>weight</th>\n",
       "      <th>transmission_type</th>\n",
       "    </tr>\n",
       "  </thead>\n",
       "  <tbody>\n",
       "    <tr>\n",
       "      <th>0</th>\n",
       "      <td>18.9</td>\n",
       "      <td>350.0</td>\n",
       "      <td>165</td>\n",
       "      <td>260</td>\n",
       "      <td>8.00</td>\n",
       "      <td>2.56</td>\n",
       "      <td>4</td>\n",
       "      <td>3</td>\n",
       "      <td>200.3</td>\n",
       "      <td>69.9</td>\n",
       "      <td>3910</td>\n",
       "      <td>1</td>\n",
       "    </tr>\n",
       "    <tr>\n",
       "      <th>1</th>\n",
       "      <td>17.0</td>\n",
       "      <td>350.0</td>\n",
       "      <td>170</td>\n",
       "      <td>275</td>\n",
       "      <td>8.50</td>\n",
       "      <td>2.56</td>\n",
       "      <td>4</td>\n",
       "      <td>3</td>\n",
       "      <td>199.6</td>\n",
       "      <td>72.9</td>\n",
       "      <td>3860</td>\n",
       "      <td>1</td>\n",
       "    </tr>\n",
       "    <tr>\n",
       "      <th>2</th>\n",
       "      <td>20.0</td>\n",
       "      <td>250.0</td>\n",
       "      <td>105</td>\n",
       "      <td>185</td>\n",
       "      <td>8.25</td>\n",
       "      <td>2.73</td>\n",
       "      <td>1</td>\n",
       "      <td>3</td>\n",
       "      <td>196.7</td>\n",
       "      <td>72.2</td>\n",
       "      <td>3510</td>\n",
       "      <td>1</td>\n",
       "    </tr>\n",
       "    <tr>\n",
       "      <th>3</th>\n",
       "      <td>18.3</td>\n",
       "      <td>351.0</td>\n",
       "      <td>143</td>\n",
       "      <td>255</td>\n",
       "      <td>8.00</td>\n",
       "      <td>3.00</td>\n",
       "      <td>2</td>\n",
       "      <td>3</td>\n",
       "      <td>199.9</td>\n",
       "      <td>74.0</td>\n",
       "      <td>3890</td>\n",
       "      <td>1</td>\n",
       "    </tr>\n",
       "    <tr>\n",
       "      <th>4</th>\n",
       "      <td>20.1</td>\n",
       "      <td>225.0</td>\n",
       "      <td>95</td>\n",
       "      <td>170</td>\n",
       "      <td>8.40</td>\n",
       "      <td>2.76</td>\n",
       "      <td>1</td>\n",
       "      <td>3</td>\n",
       "      <td>194.1</td>\n",
       "      <td>71.8</td>\n",
       "      <td>3365</td>\n",
       "      <td>0</td>\n",
       "    </tr>\n",
       "  </tbody>\n",
       "</table>\n",
       "</div>"
      ],
      "text/plain": [
       "    mpg  displacement  horsepower  torque  compression_ratio  rear_axle_ratio  \\\n",
       "0  18.9         350.0         165     260               8.00             2.56   \n",
       "1  17.0         350.0         170     275               8.50             2.56   \n",
       "2  20.0         250.0         105     185               8.25             2.73   \n",
       "3  18.3         351.0         143     255               8.00             3.00   \n",
       "4  20.1         225.0          95     170               8.40             2.76   \n",
       "\n",
       "   carburetor_barrels  transmission_speeds  overall_length  width  weight  \\\n",
       "0                   4                    3           200.3   69.9    3910   \n",
       "1                   4                    3           199.6   72.9    3860   \n",
       "2                   1                    3           196.7   72.2    3510   \n",
       "3                   2                    3           199.9   74.0    3890   \n",
       "4                   1                    3           194.1   71.8    3365   \n",
       "\n",
       "   transmission_type  \n",
       "0                  1  \n",
       "1                  1  \n",
       "2                  1  \n",
       "3                  1  \n",
       "4                  0  "
      ]
     },
     "execution_count": 65,
     "metadata": {},
     "output_type": "execute_result"
    }
   ],
   "source": [
    "gasoline.head()"
   ]
  },
  {
   "cell_type": "code",
   "execution_count": 66,
   "metadata": {
    "collapsed": false
   },
   "outputs": [
    {
     "data": {
      "text/plain": [
       "mpg                    0\n",
       "displacement           0\n",
       "horsepower             0\n",
       "torque                 0\n",
       "compression_ratio      0\n",
       "rear_axle_ratio        0\n",
       "carburetor_barrels     0\n",
       "transmission_speeds    0\n",
       "overall_length         0\n",
       "width                  0\n",
       "weight                 0\n",
       "transmission_type      0\n",
       "dtype: int64"
      ]
     },
     "execution_count": 66,
     "metadata": {},
     "output_type": "execute_result"
    }
   ],
   "source": [
    "pd.isnull(gasoline).sum()"
   ]
  },
  {
   "cell_type": "markdown",
   "metadata": {},
   "source": [
    "Variable | Description | Type of Variable\n",
    "---| ---| ---|\n",
    "mpg | miles/gallon | continuous\n",
    "displacement | cubic inches | continuous\n",
    "horsepower | feet/pound | continuous\n",
    "torque | feet/pound | continuous\n",
    "compression ratio | ratio of the maximum to minimum volume in the cylinder of an internal combustion engine| continuous\n",
    "rear axle ratio | ratio of the number of gear teeth on the ring gear of the rear axle and the pinion gear on the driveshaft| continuous\n",
    "carburetor barrels | number of carburetor barrels | discrete\n",
    "transmission speeds | number of transmission speeds | discrete\n",
    "overall length | inches | continuous\n",
    "width | inches | continuous\n",
    "weight | pounds | continuous\n",
    "transmission type | 1 = automatic, 0 = manual | nominal"
   ]
  },
  {
   "cell_type": "markdown",
   "metadata": {
    "collapsed": true
   },
   "source": [
    "## EDA"
   ]
  },
  {
   "cell_type": "code",
   "execution_count": 67,
   "metadata": {
    "collapsed": false
   },
   "outputs": [
    {
     "data": {
      "text/plain": [
       "<matplotlib.text.Text at 0x12446f2d0>"
      ]
     },
     "execution_count": 67,
     "metadata": {},
     "output_type": "execute_result"
    },
    {
     "data": {
      "image/png": "[encoded data removed]",
      "text/plain": [
       "<matplotlib.figure.Figure at 0x124094850>"
      ]
     },
     "metadata": {},
     "output_type": "display_data"
    }
   ],
   "source": [
    "plt.scatter(x = \"displacement\", y = \"mpg\", data = gasoline)\n",
    "plt.xlabel('Displacement')\n",
    "plt.ylabel('MPG')\n",
    "plt.title('Displacement vs MPG')"
   ]
  },
  {
   "cell_type": "code",
   "execution_count": 26,
   "metadata": {
    "collapsed": false
   },
   "outputs": [
    {
     "data": {
      "text/plain": [
       "<matplotlib.text.Text at 0x11fd21ed0>"
      ]
     },
     "execution_count": 26,
     "metadata": {},
     "output_type": "execute_result"
    },
    {
     "data": {
      "image/png": "[encoded data removed]",
      "text/plain": [
       "<matplotlib.figure.Figure at 0x11f886150>"
      ]
     },
     "metadata": {},
     "output_type": "display_data"
    }
   ],
   "source": [
    "plt.scatter(x = \"horsepower\", y = \"mpg\", data = gasoline)\n",
    "plt.xlabel('Horsepower')\n",
    "plt.ylabel('MPG')\n",
    "plt.title('Horsepower vs MPG')"
   ]
  },
  {
   "cell_type": "code",
   "execution_count": 27,
   "metadata": {
    "collapsed": false
   },
   "outputs": [
    {
     "data": {
      "text/plain": [
       "<matplotlib.text.Text at 0x11fe9c610>"
      ]
     },
     "execution_count": 27,
     "metadata": {},
     "output_type": "execute_result"
    },
    {
     "data": {
      "image/png": "[encoded data removed]",
      "text/plain": [
       "<matplotlib.figure.Figure at 0x11f8fa1d0>"
      ]
     },
     "metadata": {},
     "output_type": "display_data"
    }
   ],
   "source": [
    "plt.scatter(x = \"torque\", y = \"mpg\", data = gasoline)\n",
    "plt.xlabel('Torque')\n",
    "plt.ylabel('MPG')\n",
    "plt.title('Torque vs MPG')"
   ]
  },
  {
   "cell_type": "code",
   "execution_count": 28,
   "metadata": {
    "collapsed": false
   },
   "outputs": [
    {
     "data": {
      "text/plain": [
       "<matplotlib.text.Text at 0x12010f650>"
      ]
     },
     "execution_count": 28,
     "metadata": {},
     "output_type": "execute_result"
    },
    {
     "data": {
      "image/png": "[encoded data removed]",
      "text/plain": [
       "<matplotlib.figure.Figure at 0x11fce8490>"
      ]
     },
     "metadata": {},
     "output_type": "display_data"
    }
   ],
   "source": [
    "plt.scatter(x = \"compression_ratio\", y = \"mpg\", data = gasoline)\n",
    "plt.xlabel('Compression Ratio')\n",
    "plt.ylabel('MPG')\n",
    "plt.title('Compression Ratio vs MPG')"
   ]
  },
  {
   "cell_type": "code",
   "execution_count": 29,
   "metadata": {
    "collapsed": false
   },
   "outputs": [
    {
     "data": {
      "text/plain": [
       "<matplotlib.text.Text at 0x120396b90>"
      ]
     },
     "execution_count": 29,
     "metadata": {},
     "output_type": "execute_result"
    },
    {
     "data": {
      "image/png": "[encoded data removed]",
      "text/plain": [
       "<matplotlib.figure.Figure at 0x11feb3dd0>"
      ]
     },
     "metadata": {},
     "output_type": "display_data"
    }
   ],
   "source": [
    "plt.scatter(x = \"rear_axle_ratio\", y = \"mpg\", data = gasoline)\n",
    "plt.xlabel('Rear Axle Ratio')\n",
    "plt.ylabel('MPG')\n",
    "plt.title('Rear Axle Ratio vs MPG')"
   ]
  },
  {
   "cell_type": "code",
   "execution_count": 30,
   "metadata": {
    "collapsed": false
   },
   "outputs": [
    {
     "data": {
      "text/plain": [
       "<matplotlib.text.Text at 0x1205efd50>"
      ]
     },
     "execution_count": 30,
     "metadata": {},
     "output_type": "execute_result"
    },
    {
     "data": {
      "image/png": "[encoded data removed]",
      "text/plain": [
       "<matplotlib.figure.Figure at 0x1201a98d0>"
      ]
     },
     "metadata": {},
     "output_type": "display_data"
    }
   ],
   "source": [
    "plt.scatter(x = \"carburetor_barrels\", y = \"mpg\", data = gasoline)\n",
    "plt.xlabel('Carburetor Barrels')\n",
    "plt.ylabel('MPG')\n",
    "plt.title('Carburetor Barrels vs MPG')"
   ]
  },
  {
   "cell_type": "code",
   "execution_count": 31,
   "metadata": {
    "collapsed": false
   },
   "outputs": [
    {
     "data": {
      "text/plain": [
       "<matplotlib.text.Text at 0x1207653d0>"
      ]
     },
     "execution_count": 31,
     "metadata": {},
     "output_type": "execute_result"
    },
    {
     "data": {
      "image/png": "[encoded data removed]",
      "text/plain": [
       "<matplotlib.figure.Figure at 0x11fe5f510>"
      ]
     },
     "metadata": {},
     "output_type": "display_data"
    }
   ],
   "source": [
    "plt.scatter(x = \"transmission_speeds\", y = \"mpg\", data = gasoline)\n",
    "plt.xlabel('Transmission Speeds')\n",
    "plt.ylabel('MPG')\n",
    "plt.title('Transmission Speeds vs MPG')"
   ]
  },
  {
   "cell_type": "code",
   "execution_count": 32,
   "metadata": {
    "collapsed": false
   },
   "outputs": [
    {
     "data": {
      "text/plain": [
       "<matplotlib.text.Text at 0x1208e0e10>"
      ]
     },
     "execution_count": 32,
     "metadata": {},
     "output_type": "execute_result"
    },
    {
     "data": {
      "image/png": "[encoded data removed]",
      "text/plain": [
       "<matplotlib.figure.Figure at 0x1203d2e50>"
      ]
     },
     "metadata": {},
     "output_type": "display_data"
    }
   ],
   "source": [
    "plt.scatter(x = \"overall_length\", y = \"mpg\", data = gasoline)\n",
    "plt.xlabel('Overall Length')\n",
    "plt.ylabel('MPG')\n",
    "plt.title('Overall Length vs MPG')"
   ]
  },
  {
   "cell_type": "code",
   "execution_count": 33,
   "metadata": {
    "collapsed": false
   },
   "outputs": [
    {
     "data": {
      "text/plain": [
       "<matplotlib.text.Text at 0x11f0be250>"
      ]
     },
     "execution_count": 33,
     "metadata": {},
     "output_type": "execute_result"
    },
    {
     "data": {
      "image/png": "[encoded data removed]",
      "text/plain": [
       "<matplotlib.figure.Figure at 0x12087e7d0>"
      ]
     },
     "metadata": {},
     "output_type": "display_data"
    }
   ],
   "source": [
    "plt.scatter(x = \"width\", y = \"mpg\", data = gasoline)\n",
    "plt.xlabel('Width')\n",
    "plt.ylabel('MPG')\n",
    "plt.title('Width vs MPG')"
   ]
  },
  {
   "cell_type": "code",
   "execution_count": 34,
   "metadata": {
    "collapsed": false
   },
   "outputs": [
    {
     "data": {
      "text/plain": [
       "<matplotlib.text.Text at 0x120d924d0>"
      ]
     },
     "execution_count": 34,
     "metadata": {},
     "output_type": "execute_result"
    },
    {
     "data": {
      "image/png": "[encoded data removed]",
      "text/plain": [
       "<matplotlib.figure.Figure at 0x120a1ca90>"
      ]
     },
     "metadata": {},
     "output_type": "display_data"
    }
   ],
   "source": [
    "plt.scatter(x = \"weight\", y = \"mpg\", data = gasoline)\n",
    "plt.xlabel('Weight')\n",
    "plt.ylabel('MPG')\n",
    "plt.title('Weight vs MPG')"
   ]
  },
  {
   "cell_type": "code",
   "execution_count": 35,
   "metadata": {
    "collapsed": false
   },
   "outputs": [
    {
     "data": {
      "text/plain": [
       "<matplotlib.text.Text at 0x120f6add0>"
      ]
     },
     "execution_count": 35,
     "metadata": {},
     "output_type": "execute_result"
    },
    {
     "data": {
      "image/png": "[encoded data removed]",
      "text/plain": [
       "<matplotlib.figure.Figure at 0x120a86d90>"
      ]
     },
     "metadata": {},
     "output_type": "display_data"
    }
   ],
   "source": [
    "plt.scatter(x = \"transmission_type\", y = \"mpg\", data = gasoline)\n",
    "plt.xlabel('Transmission Type')\n",
    "plt.ylabel('MPG')\n",
    "plt.title('Transmission Type vs MPG')"
   ]
  },
  {
   "cell_type": "code",
   "execution_count": 36,
   "metadata": {
    "collapsed": false
   },
   "outputs": [
    {
     "data": {
      "text/plain": [
       "<matplotlib.text.Text at 0x120f538d0>"
      ]
     },
     "execution_count": 36,
     "metadata": {},
     "output_type": "execute_result"
    },
    {
     "data": {
      "image/png": "[encoded data removed]",
      "text/plain": [
       "<matplotlib.figure.Figure at 0x120a865d0>"
      ]
     },
     "metadata": {},
     "output_type": "display_data"
    }
   ],
   "source": [
    "plt.hist(gasoline[\"mpg\"])\n",
    "plt.xlabel('MPG')\n",
    "plt.ylabel('Frequency')\n",
    "plt.title('Histogram of MPG')"
   ]
  },
  {
   "cell_type": "markdown",
   "metadata": {},
   "source": [
    "## Try a Box Cox transformation to improve normality of response variable"
   ]
  },
  {
   "cell_type": "code",
   "execution_count": 37,
   "metadata": {
    "collapsed": true
   },
   "outputs": [],
   "source": [
    "from scipy import stats\n",
    "boxcox = gasoline.copy()\n",
    "boxcox['ytrans'] = stats.boxcox(gasoline.mpg)[0]"
   ]
  },
  {
   "cell_type": "code",
   "execution_count": 59,
   "metadata": {
    "collapsed": false
   },
   "outputs": [
    {
     "data": {
      "text/plain": [
       "<matplotlib.text.Text at 0x123d366d0>"
      ]
     },
     "execution_count": 59,
     "metadata": {},
     "output_type": "execute_result"
    },
    {
     "data": {
      "image/png": "[encoded data removed]",
      "text/plain": [
       "<matplotlib.figure.Figure at 0x12391d190>"
      ]
     },
     "metadata": {},
     "output_type": "display_data"
    }
   ],
   "source": [
    "plt.hist(boxcox.ytrans)\n",
    "plt.xlabel('Box-Cox Transformed MPG')\n",
    "plt.ylabel('Frequency')\n",
    "plt.title('Histogram of Box-Cox Transformed MPG')"
   ]
  },
  {
   "cell_type": "markdown",
   "metadata": {},
   "source": [
    "## Try a Log transformation to improve normality of response variable"
   ]
  },
  {
   "cell_type": "code",
   "execution_count": 39,
   "metadata": {
    "collapsed": true
   },
   "outputs": [],
   "source": [
    "#do a log transformation on mpg\n",
    "log_columns = ['mpg']\n",
    "log_df = gasoline.copy()\n",
    "log_df[log_columns] = log_df[log_columns].apply(np.log10)"
   ]
  },
  {
   "cell_type": "code",
   "execution_count": 58,
   "metadata": {
    "collapsed": false
   },
   "outputs": [
    {
     "data": {
      "text/plain": [
       "<matplotlib.text.Text at 0x123980d90>"
      ]
     },
     "execution_count": 58,
     "metadata": {},
     "output_type": "execute_result"
    },
    {
     "data": {
      "image/png": "[encoded data removed]",
      "text/plain": [
       "<matplotlib.figure.Figure at 0x12365ab90>"
      ]
     },
     "metadata": {},
     "output_type": "display_data"
    }
   ],
   "source": [
    "plt.hist(log_df.mpg)\n",
    "plt.xlabel('log(MPG)')\n",
    "plt.ylabel('Frequency')\n",
    "plt.title('Histogram of log(MPG)')"
   ]
  },
  {
   "cell_type": "markdown",
   "metadata": {},
   "source": [
    "## See which one has a more normal distribution in a simple linear regression"
   ]
  },
  {
   "cell_type": "code",
   "execution_count": 41,
   "metadata": {
    "collapsed": false
   },
   "outputs": [
    {
     "data": {
      "text/html": [
       "<table class=\"simpletable\">\n",
       "<caption>OLS Regression Results</caption>\n",
       "<tr>\n",
       "  <th>Dep. Variable:</th>            <td>y</td>        <th>  R-squared:         </th> <td>   0.727</td>\n",
       "</tr>\n",
       "<tr>\n",
       "  <th>Model:</th>                   <td>OLS</td>       <th>  Adj. R-squared:    </th> <td>   0.717</td>\n",
       "</tr>\n",
       "<tr>\n",
       "  <th>Method:</th>             <td>Least Squares</td>  <th>  F-statistic:       </th> <td>   74.52</td>\n",
       "</tr>\n",
       "<tr>\n",
       "  <th>Date:</th>             <td>Fri, 21 Jul 2017</td> <th>  Prob (F-statistic):</th> <td>2.23e-09</td>\n",
       "</tr>\n",
       "<tr>\n",
       "  <th>Time:</th>                 <td>14:52:04</td>     <th>  Log-Likelihood:    </th> <td> -77.631</td>\n",
       "</tr>\n",
       "<tr>\n",
       "  <th>No. Observations:</th>      <td>    30</td>      <th>  AIC:               </th> <td>   159.3</td>\n",
       "</tr>\n",
       "<tr>\n",
       "  <th>Df Residuals:</th>          <td>    28</td>      <th>  BIC:               </th> <td>   162.1</td>\n",
       "</tr>\n",
       "<tr>\n",
       "  <th>Df Model:</th>              <td>     1</td>      <th>                     </th>     <td> </td>   \n",
       "</tr>\n",
       "<tr>\n",
       "  <th>Covariance Type:</th>      <td>nonrobust</td>    <th>                     </th>     <td> </td>   \n",
       "</tr>\n",
       "</table>\n",
       "<table class=\"simpletable\">\n",
       "<tr>\n",
       "      <td></td>         <th>coef</th>     <th>std err</th>      <th>t</th>      <th>P>|t|</th> <th>[95.0% Conf. Int.]</th> \n",
       "</tr>\n",
       "<tr>\n",
       "  <th>Intercept</th> <td>   40.6176</td> <td>    2.460</td> <td>   16.513</td> <td> 0.000</td> <td>   35.579    45.656</td>\n",
       "</tr>\n",
       "<tr>\n",
       "  <th>X</th>         <td>   -0.0057</td> <td>    0.001</td> <td>   -8.632</td> <td> 0.000</td> <td>   -0.007    -0.004</td>\n",
       "</tr>\n",
       "</table>\n",
       "<table class=\"simpletable\">\n",
       "<tr>\n",
       "  <th>Omnibus:</th>       <td> 1.774</td> <th>  Durbin-Watson:     </th> <td>   1.745</td>\n",
       "</tr>\n",
       "<tr>\n",
       "  <th>Prob(Omnibus):</th> <td> 0.412</td> <th>  Jarque-Bera (JB):  </th> <td>   1.554</td>\n",
       "</tr>\n",
       "<tr>\n",
       "  <th>Skew:</th>          <td> 0.433</td> <th>  Prob(JB):          </th> <td>   0.460</td>\n",
       "</tr>\n",
       "<tr>\n",
       "  <th>Kurtosis:</th>      <td> 2.297</td> <th>  Cond. No.          </th> <td>1.51e+04</td>\n",
       "</tr>\n",
       "</table>"
      ],
      "text/plain": [
       "<class 'statsmodels.iolib.summary.Summary'>\n",
       "\"\"\"\n",
       "                            OLS Regression Results                            \n",
       "==============================================================================\n",
       "Dep. Variable:                      y   R-squared:                       0.727\n",
       "Model:                            OLS   Adj. R-squared:                  0.717\n",
       "Method:                 Least Squares   F-statistic:                     74.52\n",
       "Date:                Fri, 21 Jul 2017   Prob (F-statistic):           2.23e-09\n",
       "Time:                        14:52:04   Log-Likelihood:                -77.631\n",
       "No. Observations:                  30   AIC:                             159.3\n",
       "Df Residuals:                      28   BIC:                             162.1\n",
       "Df Model:                           1                                         \n",
       "Covariance Type:            nonrobust                                         \n",
       "==============================================================================\n",
       "                 coef    std err          t      P>|t|      [95.0% Conf. Int.]\n",
       "------------------------------------------------------------------------------\n",
       "Intercept     40.6176      2.460     16.513      0.000        35.579    45.656\n",
       "X             -0.0057      0.001     -8.632      0.000        -0.007    -0.004\n",
       "==============================================================================\n",
       "Omnibus:                        1.774   Durbin-Watson:                   1.745\n",
       "Prob(Omnibus):                  0.412   Jarque-Bera (JB):                1.554\n",
       "Skew:                           0.433   Prob(JB):                        0.460\n",
       "Kurtosis:                       2.297   Cond. No.                     1.51e+04\n",
       "==============================================================================\n",
       "\n",
       "Warnings:\n",
       "[1] Standard Errors assume that the covariance matrix of the errors is correctly specified.\n",
       "[2] The condition number is large, 1.51e+04. This might indicate that there are\n",
       "strong multicollinearity or other numerical problems.\n",
       "\"\"\""
      ]
     },
     "execution_count": 41,
     "metadata": {},
     "output_type": "execute_result"
    }
   ],
   "source": [
    "X = gasoline['weight']\n",
    "y = gasoline['mpg']\n",
    "\n",
    "# create a fitted model in one line\n",
    "#formula notiation is the equivalent to writting out our models such that 'outcome = predictor'\n",
    "#with the follwing syntax formula = 'outcome ~ predictor1 + predictor2 ... predictorN'\n",
    "lm = smf.ols(formula='y ~ X', data=gasoline).fit()\n",
    "#print the full summary\n",
    "lm.summary()"
   ]
  },
  {
   "cell_type": "code",
   "execution_count": 42,
   "metadata": {
    "collapsed": false
   },
   "outputs": [
    {
     "data": {
      "text/html": [
       "<table class=\"simpletable\">\n",
       "<caption>OLS Regression Results</caption>\n",
       "<tr>\n",
       "  <th>Dep. Variable:</th>            <td>y</td>        <th>  R-squared:         </th> <td>   0.733</td>\n",
       "</tr>\n",
       "<tr>\n",
       "  <th>Model:</th>                   <td>OLS</td>       <th>  Adj. R-squared:    </th> <td>   0.724</td>\n",
       "</tr>\n",
       "<tr>\n",
       "  <th>Method:</th>             <td>Least Squares</td>  <th>  F-statistic:       </th> <td>   76.98</td>\n",
       "</tr>\n",
       "<tr>\n",
       "  <th>Date:</th>             <td>Fri, 21 Jul 2017</td> <th>  Prob (F-statistic):</th> <td>1.59e-09</td>\n",
       "</tr>\n",
       "<tr>\n",
       "  <th>Time:</th>                 <td>14:52:04</td>     <th>  Log-Likelihood:    </th> <td>  75.046</td>\n",
       "</tr>\n",
       "<tr>\n",
       "  <th>No. Observations:</th>      <td>    30</td>      <th>  AIC:               </th> <td>  -146.1</td>\n",
       "</tr>\n",
       "<tr>\n",
       "  <th>Df Residuals:</th>          <td>    28</td>      <th>  BIC:               </th> <td>  -143.3</td>\n",
       "</tr>\n",
       "<tr>\n",
       "  <th>Df Model:</th>              <td>     1</td>      <th>                     </th>     <td> </td>   \n",
       "</tr>\n",
       "<tr>\n",
       "  <th>Covariance Type:</th>      <td>nonrobust</td>    <th>                     </th>     <td> </td>   \n",
       "</tr>\n",
       "</table>\n",
       "<table class=\"simpletable\">\n",
       "<tr>\n",
       "      <td></td>         <th>coef</th>     <th>std err</th>      <th>t</th>      <th>P>|t|</th> <th>[95.0% Conf. Int.]</th> \n",
       "</tr>\n",
       "<tr>\n",
       "  <th>Intercept</th> <td>    1.4143</td> <td>    0.015</td> <td>   93.299</td> <td> 0.000</td> <td>    1.383     1.445</td>\n",
       "</tr>\n",
       "<tr>\n",
       "  <th>X</th>         <td>-3.554e-05</td> <td> 4.05e-06</td> <td>   -8.774</td> <td> 0.000</td> <td>-4.38e-05 -2.72e-05</td>\n",
       "</tr>\n",
       "</table>\n",
       "<table class=\"simpletable\">\n",
       "<tr>\n",
       "  <th>Omnibus:</th>       <td> 9.762</td> <th>  Durbin-Watson:     </th> <td>   1.759</td>\n",
       "</tr>\n",
       "<tr>\n",
       "  <th>Prob(Omnibus):</th> <td> 0.008</td> <th>  Jarque-Bera (JB):  </th> <td>   9.892</td>\n",
       "</tr>\n",
       "<tr>\n",
       "  <th>Skew:</th>          <td>-0.853</td> <th>  Prob(JB):          </th> <td> 0.00711</td>\n",
       "</tr>\n",
       "<tr>\n",
       "  <th>Kurtosis:</th>      <td> 5.237</td> <th>  Cond. No.          </th> <td>1.51e+04</td>\n",
       "</tr>\n",
       "</table>"
      ],
      "text/plain": [
       "<class 'statsmodels.iolib.summary.Summary'>\n",
       "\"\"\"\n",
       "                            OLS Regression Results                            \n",
       "==============================================================================\n",
       "Dep. Variable:                      y   R-squared:                       0.733\n",
       "Model:                            OLS   Adj. R-squared:                  0.724\n",
       "Method:                 Least Squares   F-statistic:                     76.98\n",
       "Date:                Fri, 21 Jul 2017   Prob (F-statistic):           1.59e-09\n",
       "Time:                        14:52:04   Log-Likelihood:                 75.046\n",
       "No. Observations:                  30   AIC:                            -146.1\n",
       "Df Residuals:                      28   BIC:                            -143.3\n",
       "Df Model:                           1                                         \n",
       "Covariance Type:            nonrobust                                         \n",
       "==============================================================================\n",
       "                 coef    std err          t      P>|t|      [95.0% Conf. Int.]\n",
       "------------------------------------------------------------------------------\n",
       "Intercept      1.4143      0.015     93.299      0.000         1.383     1.445\n",
       "X          -3.554e-05   4.05e-06     -8.774      0.000     -4.38e-05 -2.72e-05\n",
       "==============================================================================\n",
       "Omnibus:                        9.762   Durbin-Watson:                   1.759\n",
       "Prob(Omnibus):                  0.008   Jarque-Bera (JB):                9.892\n",
       "Skew:                          -0.853   Prob(JB):                      0.00711\n",
       "Kurtosis:                       5.237   Cond. No.                     1.51e+04\n",
       "==============================================================================\n",
       "\n",
       "Warnings:\n",
       "[1] Standard Errors assume that the covariance matrix of the errors is correctly specified.\n",
       "[2] The condition number is large, 1.51e+04. This might indicate that there are\n",
       "strong multicollinearity or other numerical problems.\n",
       "\"\"\""
      ]
     },
     "execution_count": 42,
     "metadata": {},
     "output_type": "execute_result"
    }
   ],
   "source": [
    "X = boxcox['weight']\n",
    "y = boxcox['ytrans']\n",
    "\n",
    "# create a fitted model in one line\n",
    "#formula notiation is the equivalent to writting out our models such that 'outcome = predictor'\n",
    "#with the follwing syntax formula = 'outcome ~ predictor1 + predictor2 ... predictorN'\n",
    "lm = smf.ols(formula='y ~ X', data=gasoline).fit()\n",
    "#print the full summary\n",
    "lm.summary()"
   ]
  },
  {
   "cell_type": "code",
   "execution_count": 43,
   "metadata": {
    "collapsed": false
   },
   "outputs": [
    {
     "data": {
      "text/html": [
       "<table class=\"simpletable\">\n",
       "<caption>OLS Regression Results</caption>\n",
       "<tr>\n",
       "  <th>Dep. Variable:</th>            <td>y</td>        <th>  R-squared:         </th> <td>   0.750</td>\n",
       "</tr>\n",
       "<tr>\n",
       "  <th>Model:</th>                   <td>OLS</td>       <th>  Adj. R-squared:    </th> <td>   0.741</td>\n",
       "</tr>\n",
       "<tr>\n",
       "  <th>Method:</th>             <td>Least Squares</td>  <th>  F-statistic:       </th> <td>   84.08</td>\n",
       "</tr>\n",
       "<tr>\n",
       "  <th>Date:</th>             <td>Fri, 21 Jul 2017</td> <th>  Prob (F-statistic):</th> <td>6.29e-10</td>\n",
       "</tr>\n",
       "<tr>\n",
       "  <th>Time:</th>                 <td>14:52:04</td>     <th>  Log-Likelihood:    </th> <td>  41.100</td>\n",
       "</tr>\n",
       "<tr>\n",
       "  <th>No. Observations:</th>      <td>    30</td>      <th>  AIC:               </th> <td>  -78.20</td>\n",
       "</tr>\n",
       "<tr>\n",
       "  <th>Df Residuals:</th>          <td>    28</td>      <th>  BIC:               </th> <td>  -75.40</td>\n",
       "</tr>\n",
       "<tr>\n",
       "  <th>Df Model:</th>              <td>     1</td>      <th>                     </th>     <td> </td>   \n",
       "</tr>\n",
       "<tr>\n",
       "  <th>Covariance Type:</th>      <td>nonrobust</td>    <th>                     </th>     <td> </td>   \n",
       "</tr>\n",
       "</table>\n",
       "<table class=\"simpletable\">\n",
       "<tr>\n",
       "      <td></td>         <th>coef</th>     <th>std err</th>      <th>t</th>      <th>P>|t|</th> <th>[95.0% Conf. Int.]</th> \n",
       "</tr>\n",
       "<tr>\n",
       "  <th>Intercept</th> <td>    1.7013</td> <td>    0.047</td> <td>   36.199</td> <td> 0.000</td> <td>    1.605     1.798</td>\n",
       "</tr>\n",
       "<tr>\n",
       "  <th>X</th>         <td>   -0.0001</td> <td> 1.26e-05</td> <td>   -9.170</td> <td> 0.000</td> <td>   -0.000 -8.94e-05</td>\n",
       "</tr>\n",
       "</table>\n",
       "<table class=\"simpletable\">\n",
       "<tr>\n",
       "  <th>Omnibus:</th>       <td> 1.001</td> <th>  Durbin-Watson:     </th> <td>   1.710</td>\n",
       "</tr>\n",
       "<tr>\n",
       "  <th>Prob(Omnibus):</th> <td> 0.606</td> <th>  Jarque-Bera (JB):  </th> <td>   0.378</td>\n",
       "</tr>\n",
       "<tr>\n",
       "  <th>Skew:</th>          <td>-0.261</td> <th>  Prob(JB):          </th> <td>   0.828</td>\n",
       "</tr>\n",
       "<tr>\n",
       "  <th>Kurtosis:</th>      <td> 3.172</td> <th>  Cond. No.          </th> <td>1.51e+04</td>\n",
       "</tr>\n",
       "</table>"
      ],
      "text/plain": [
       "<class 'statsmodels.iolib.summary.Summary'>\n",
       "\"\"\"\n",
       "                            OLS Regression Results                            \n",
       "==============================================================================\n",
       "Dep. Variable:                      y   R-squared:                       0.750\n",
       "Model:                            OLS   Adj. R-squared:                  0.741\n",
       "Method:                 Least Squares   F-statistic:                     84.08\n",
       "Date:                Fri, 21 Jul 2017   Prob (F-statistic):           6.29e-10\n",
       "Time:                        14:52:04   Log-Likelihood:                 41.100\n",
       "No. Observations:                  30   AIC:                            -78.20\n",
       "Df Residuals:                      28   BIC:                            -75.40\n",
       "Df Model:                           1                                         \n",
       "Covariance Type:            nonrobust                                         \n",
       "==============================================================================\n",
       "                 coef    std err          t      P>|t|      [95.0% Conf. Int.]\n",
       "------------------------------------------------------------------------------\n",
       "Intercept      1.7013      0.047     36.199      0.000         1.605     1.798\n",
       "X             -0.0001   1.26e-05     -9.170      0.000        -0.000 -8.94e-05\n",
       "==============================================================================\n",
       "Omnibus:                        1.001   Durbin-Watson:                   1.710\n",
       "Prob(Omnibus):                  0.606   Jarque-Bera (JB):                0.378\n",
       "Skew:                          -0.261   Prob(JB):                        0.828\n",
       "Kurtosis:                       3.172   Cond. No.                     1.51e+04\n",
       "==============================================================================\n",
       "\n",
       "Warnings:\n",
       "[1] Standard Errors assume that the covariance matrix of the errors is correctly specified.\n",
       "[2] The condition number is large, 1.51e+04. This might indicate that there are\n",
       "strong multicollinearity or other numerical problems.\n",
       "\"\"\""
      ]
     },
     "execution_count": 43,
     "metadata": {},
     "output_type": "execute_result"
    }
   ],
   "source": [
    "X = log_df['weight']\n",
    "y = log_df['mpg']\n",
    "\n",
    "# create a fitted model in one line\n",
    "#formula notiation is the equivalent to writting out our models such that 'outcome = predictor'\n",
    "#with the follwing syntax formula = 'outcome ~ predictor1 + predictor2 ... predictorN'\n",
    "lm = smf.ols(formula='y ~ X', data=log_df).fit()\n",
    "#print the full summary\n",
    "lm.summary()"
   ]
  },
  {
   "cell_type": "code",
   "execution_count": 44,
   "metadata": {
    "collapsed": false
   },
   "outputs": [
    {
     "data": {
      "text/plain": [
       "{'boxes': [<matplotlib.lines.Line2D at 0x121d2eb50>],\n",
       " 'caps': [<matplotlib.lines.Line2D at 0x121d3c9d0>,\n",
       "  <matplotlib.lines.Line2D at 0x121d48050>],\n",
       " 'fliers': [<matplotlib.lines.Line2D at 0x121d48cd0>],\n",
       " 'means': [],\n",
       " 'medians': [<matplotlib.lines.Line2D at 0x121d48690>],\n",
       " 'whiskers': [<matplotlib.lines.Line2D at 0x121d2ec90>,\n",
       "  <matplotlib.lines.Line2D at 0x121d3c390>]}"
      ]
     },
     "execution_count": 44,
     "metadata": {},
     "output_type": "execute_result"
    },
    {
     "data": {
      "image/png": "[encoded data removed]",
      "text/plain": [
       "<matplotlib.figure.Figure at 0x121761610>"
      ]
     },
     "metadata": {},
     "output_type": "display_data"
    }
   ],
   "source": [
    "plt.boxplot(gasoline.mpg)"
   ]
  },
  {
   "cell_type": "code",
   "execution_count": 45,
   "metadata": {
    "collapsed": false
   },
   "outputs": [
    {
     "data": {
      "text/plain": [
       "{'boxes': [<matplotlib.lines.Line2D at 0x121e81950>],\n",
       " 'caps': [<matplotlib.lines.Line2D at 0x121e907d0>,\n",
       "  <matplotlib.lines.Line2D at 0x121e90e10>],\n",
       " 'fliers': [<matplotlib.lines.Line2D at 0x121e9bad0>],\n",
       " 'means': [],\n",
       " 'medians': [<matplotlib.lines.Line2D at 0x121e9b490>],\n",
       " 'whiskers': [<matplotlib.lines.Line2D at 0x121e81a90>,\n",
       "  <matplotlib.lines.Line2D at 0x121e90190>]}"
      ]
     },
     "execution_count": 45,
     "metadata": {},
     "output_type": "execute_result"
    },
    {
     "data": {
      "image/png": "[encoded data removed]",
      "text/plain": [
       "<matplotlib.figure.Figure at 0x121792250>"
      ]
     },
     "metadata": {},
     "output_type": "display_data"
    }
   ],
   "source": [
    "plt.boxplot(boxcox.ytrans)"
   ]
  },
  {
   "cell_type": "code",
   "execution_count": 46,
   "metadata": {
    "collapsed": false
   },
   "outputs": [
    {
     "data": {
      "text/plain": [
       "{'boxes': [<matplotlib.lines.Line2D at 0x1228107d0>],\n",
       " 'caps': [<matplotlib.lines.Line2D at 0x122820650>,\n",
       "  <matplotlib.lines.Line2D at 0x122820c90>],\n",
       " 'fliers': [<matplotlib.lines.Line2D at 0x12282b950>],\n",
       " 'means': [],\n",
       " 'medians': [<matplotlib.lines.Line2D at 0x12282b310>],\n",
       " 'whiskers': [<matplotlib.lines.Line2D at 0x122810910>,\n",
       "  <matplotlib.lines.Line2D at 0x122810fd0>]}"
      ]
     },
     "execution_count": 46,
     "metadata": {},
     "output_type": "execute_result"
    },
    {
     "data": {
      "image/png": "[encoded data removed]",
      "text/plain": [
       "<matplotlib.figure.Figure at 0x121da0710>"
      ]
     },
     "metadata": {},
     "output_type": "display_data"
    }
   ],
   "source": [
    "plt.boxplot(log_df.mpg)"
   ]
  },
  {
   "cell_type": "markdown",
   "metadata": {},
   "source": [
    "## Multiple Regression Model - Full Model of log(mpg)"
   ]
  },
  {
   "cell_type": "code",
   "execution_count": 47,
   "metadata": {
    "collapsed": false
   },
   "outputs": [
    {
     "data": {
      "text/plain": [
       "['mpg',\n",
       " 'displacement',\n",
       " 'horsepower',\n",
       " 'torque',\n",
       " 'compression_ratio',\n",
       " 'rear_axle_ratio',\n",
       " 'carburetor_barrels',\n",
       " 'transmission_speeds',\n",
       " 'overall_length',\n",
       " 'width',\n",
       " 'weight',\n",
       " 'transmission_type']"
      ]
     },
     "execution_count": 47,
     "metadata": {},
     "output_type": "execute_result"
    }
   ],
   "source": [
    "list(log_df.columns.values)"
   ]
  },
  {
   "cell_type": "code",
   "execution_count": 48,
   "metadata": {
    "collapsed": false
   },
   "outputs": [
    {
     "data": {
      "text/html": [
       "<table class=\"simpletable\">\n",
       "<caption>OLS Regression Results</caption>\n",
       "<tr>\n",
       "  <th>Dep. Variable:</th>           <td>mpg</td>       <th>  R-squared:         </th> <td>   0.849</td>\n",
       "</tr>\n",
       "<tr>\n",
       "  <th>Model:</th>                   <td>OLS</td>       <th>  Adj. R-squared:    </th> <td>   0.757</td>\n",
       "</tr>\n",
       "<tr>\n",
       "  <th>Method:</th>             <td>Least Squares</td>  <th>  F-statistic:       </th> <td>   9.226</td>\n",
       "</tr>\n",
       "<tr>\n",
       "  <th>Date:</th>             <td>Fri, 21 Jul 2017</td> <th>  Prob (F-statistic):</th> <td>2.53e-05</td>\n",
       "</tr>\n",
       "<tr>\n",
       "  <th>Time:</th>                 <td>14:52:06</td>     <th>  Log-Likelihood:    </th> <td>  48.686</td>\n",
       "</tr>\n",
       "<tr>\n",
       "  <th>No. Observations:</th>      <td>    30</td>      <th>  AIC:               </th> <td>  -73.37</td>\n",
       "</tr>\n",
       "<tr>\n",
       "  <th>Df Residuals:</th>          <td>    18</td>      <th>  BIC:               </th> <td>  -56.56</td>\n",
       "</tr>\n",
       "<tr>\n",
       "  <th>Df Model:</th>              <td>    11</td>      <th>                     </th>     <td> </td>   \n",
       "</tr>\n",
       "<tr>\n",
       "  <th>Covariance Type:</th>      <td>nonrobust</td>    <th>                     </th>     <td> </td>   \n",
       "</tr>\n",
       "</table>\n",
       "<table class=\"simpletable\">\n",
       "<tr>\n",
       "           <td></td>              <th>coef</th>     <th>std err</th>      <th>t</th>      <th>P>|t|</th> <th>[95.0% Conf. Int.]</th> \n",
       "</tr>\n",
       "<tr>\n",
       "  <th>const</th>               <td>    1.1203</td> <td>    0.583</td> <td>    1.922</td> <td> 0.071</td> <td>   -0.104     2.345</td>\n",
       "</tr>\n",
       "<tr>\n",
       "  <th>displacement</th>        <td>   -0.0014</td> <td>    0.001</td> <td>   -1.217</td> <td> 0.239</td> <td>   -0.004     0.001</td>\n",
       "</tr>\n",
       "<tr>\n",
       "  <th>horsepower</th>          <td>   -0.0020</td> <td>    0.002</td> <td>   -1.185</td> <td> 0.251</td> <td>   -0.006     0.002</td>\n",
       "</tr>\n",
       "<tr>\n",
       "  <th>torque</th>              <td>    0.0022</td> <td>    0.002</td> <td>    1.274</td> <td> 0.219</td> <td>   -0.001     0.006</td>\n",
       "</tr>\n",
       "<tr>\n",
       "  <th>compression_ratio</th>   <td>    0.0150</td> <td>    0.059</td> <td>    0.254</td> <td> 0.803</td> <td>   -0.109     0.139</td>\n",
       "</tr>\n",
       "<tr>\n",
       "  <th>rear_axle_ratio</th>     <td>    0.0447</td> <td>    0.060</td> <td>    0.741</td> <td> 0.468</td> <td>   -0.082     0.171</td>\n",
       "</tr>\n",
       "<tr>\n",
       "  <th>carburetor_barrels</th>  <td>    0.0139</td> <td>    0.025</td> <td>    0.564</td> <td> 0.580</td> <td>   -0.038     0.066</td>\n",
       "</tr>\n",
       "<tr>\n",
       "  <th>transmission_speeds</th> <td>   -0.0085</td> <td>    0.059</td> <td>   -0.143</td> <td> 0.888</td> <td>   -0.133     0.116</td>\n",
       "</tr>\n",
       "<tr>\n",
       "  <th>overall_length</th>      <td>    0.0041</td> <td>    0.002</td> <td>    1.642</td> <td> 0.118</td> <td>   -0.001     0.009</td>\n",
       "</tr>\n",
       "<tr>\n",
       "  <th>width</th>               <td>   -0.0036</td> <td>    0.006</td> <td>   -0.576</td> <td> 0.572</td> <td>   -0.017     0.009</td>\n",
       "</tr>\n",
       "<tr>\n",
       "  <th>weight</th>              <td>   -0.0001</td> <td>    0.000</td> <td>   -1.161</td> <td> 0.261</td> <td>   -0.000     0.000</td>\n",
       "</tr>\n",
       "<tr>\n",
       "  <th>transmission_type</th>   <td>    0.0331</td> <td>    0.058</td> <td>    0.573</td> <td> 0.574</td> <td>   -0.088     0.154</td>\n",
       "</tr>\n",
       "</table>\n",
       "<table class=\"simpletable\">\n",
       "<tr>\n",
       "  <th>Omnibus:</th>       <td> 0.064</td> <th>  Durbin-Watson:     </th> <td>   1.892</td>\n",
       "</tr>\n",
       "<tr>\n",
       "  <th>Prob(Omnibus):</th> <td> 0.969</td> <th>  Jarque-Bera (JB):  </th> <td>   0.115</td>\n",
       "</tr>\n",
       "<tr>\n",
       "  <th>Skew:</th>          <td> 0.082</td> <th>  Prob(JB):          </th> <td>   0.944</td>\n",
       "</tr>\n",
       "<tr>\n",
       "  <th>Kurtosis:</th>      <td> 2.744</td> <th>  Cond. No.          </th> <td>1.96e+05</td>\n",
       "</tr>\n",
       "</table>"
      ],
      "text/plain": [
       "<class 'statsmodels.iolib.summary.Summary'>\n",
       "\"\"\"\n",
       "                            OLS Regression Results                            \n",
       "==============================================================================\n",
       "Dep. Variable:                    mpg   R-squared:                       0.849\n",
       "Model:                            OLS   Adj. R-squared:                  0.757\n",
       "Method:                 Least Squares   F-statistic:                     9.226\n",
       "Date:                Fri, 21 Jul 2017   Prob (F-statistic):           2.53e-05\n",
       "Time:                        14:52:06   Log-Likelihood:                 48.686\n",
       "No. Observations:                  30   AIC:                            -73.37\n",
       "Df Residuals:                      18   BIC:                            -56.56\n",
       "Df Model:                          11                                         \n",
       "Covariance Type:            nonrobust                                         \n",
       "=======================================================================================\n",
       "                          coef    std err          t      P>|t|      [95.0% Conf. Int.]\n",
       "---------------------------------------------------------------------------------------\n",
       "const                   1.1203      0.583      1.922      0.071        -0.104     2.345\n",
       "displacement           -0.0014      0.001     -1.217      0.239        -0.004     0.001\n",
       "horsepower             -0.0020      0.002     -1.185      0.251        -0.006     0.002\n",
       "torque                  0.0022      0.002      1.274      0.219        -0.001     0.006\n",
       "compression_ratio       0.0150      0.059      0.254      0.803        -0.109     0.139\n",
       "rear_axle_ratio         0.0447      0.060      0.741      0.468        -0.082     0.171\n",
       "carburetor_barrels      0.0139      0.025      0.564      0.580        -0.038     0.066\n",
       "transmission_speeds    -0.0085      0.059     -0.143      0.888        -0.133     0.116\n",
       "overall_length          0.0041      0.002      1.642      0.118        -0.001     0.009\n",
       "width                  -0.0036      0.006     -0.576      0.572        -0.017     0.009\n",
       "weight                 -0.0001      0.000     -1.161      0.261        -0.000     0.000\n",
       "transmission_type       0.0331      0.058      0.573      0.574        -0.088     0.154\n",
       "==============================================================================\n",
       "Omnibus:                        0.064   Durbin-Watson:                   1.892\n",
       "Prob(Omnibus):                  0.969   Jarque-Bera (JB):                0.115\n",
       "Skew:                           0.082   Prob(JB):                        0.944\n",
       "Kurtosis:                       2.744   Cond. No.                     1.96e+05\n",
       "==============================================================================\n",
       "\n",
       "Warnings:\n",
       "[1] Standard Errors assume that the covariance matrix of the errors is correctly specified.\n",
       "[2] The condition number is large, 1.96e+05. This might indicate that there are\n",
       "strong multicollinearity or other numerical problems.\n",
       "\"\"\""
      ]
     },
     "execution_count": 48,
     "metadata": {},
     "output_type": "execute_result"
    }
   ],
   "source": [
    "X = log_df[['displacement', 'horsepower', 'torque', 'compression_ratio', 'rear_axle_ratio', 'carburetor_barrels', 'transmission_speeds', 'overall_length', 'width', 'weight', 'transmission_type']]\n",
    "y = log_df['mpg']\n",
    "\n",
    "## fit a OLS model with intercept\n",
    "X = sm.add_constant(X)\n",
    "lm1 = smf.OLS(y, X).fit()\n",
    "\n",
    "lm1.summary()"
   ]
  },
  {
   "cell_type": "code",
   "execution_count": 49,
   "metadata": {
    "collapsed": false
   },
   "outputs": [
    {
     "data": {
      "text/plain": [
       "<matplotlib.text.Text at 0x122d77d50>"
      ]
     },
     "execution_count": 49,
     "metadata": {},
     "output_type": "execute_result"
    },
    {
     "data": {
      "image/png": "[encoded data removed]",
      "text/plain": [
       "<matplotlib.figure.Figure at 0x12284d050>"
      ]
     },
     "metadata": {},
     "output_type": "display_data"
    }
   ],
   "source": [
    "#qqnorm plot\n",
    "fig = sm.qqplot(lm1.resid, fit=True, line='45')\n",
    "plt.show\n",
    "plt.title('QQ Norm Plot of Residuals')"
   ]
  },
  {
   "cell_type": "code",
   "execution_count": 62,
   "metadata": {
    "collapsed": false
   },
   "outputs": [
    {
     "data": {
      "text/plain": [
       "<matplotlib.text.Text at 0x12409d490>"
      ]
     },
     "execution_count": 62,
     "metadata": {},
     "output_type": "execute_result"
    },
    {
     "data": {
      "image/png": "[encoded data removed]",
      "text/plain": [
       "<matplotlib.figure.Figure at 0x124048310>"
      ]
     },
     "metadata": {},
     "output_type": "display_data"
    }
   ],
   "source": [
    "#fitted values vs residuals\n",
    "plt.scatter(lm1.fittedvalues, lm1.resid)\n",
    "plt.xlabel('Predicted MPG')\n",
    "plt.ylabel('Residuals')\n",
    "plt.title('Predicted MPG vs. Residuals')"
   ]
  },
  {
   "cell_type": "markdown",
   "metadata": {},
   "source": [
    "## Multiple Linear Regression - Subset Model of log(mpg)"
   ]
  },
  {
   "cell_type": "code",
   "execution_count": 51,
   "metadata": {
    "collapsed": false
   },
   "outputs": [],
   "source": [
    "def forward_selected(data, response):\n",
    "    \"\"\"Linear model designed by forward selection.\n",
    "\n",
    "    Parameters:\n",
    "    -----------\n",
    "    data : pandas DataFrame with all possible predictors and response\n",
    "\n",
    "    response: string, name of response column in data\n",
    "\n",
    "    Returns:\n",
    "    --------\n",
    "    model: an \"optimal\" fitted statsmodels linear model\n",
    "           with an intercept\n",
    "           selected by forward selection\n",
    "           evaluated by adjusted R-squared\n",
    "    \"\"\"\n",
    "\n",
    "\n",
    "    remaining = set(data.columns)\n",
    "    remaining.remove(response)\n",
    "    selected = []\n",
    "    current_score, best_new_score = 0.0, 0.0\n",
    "    while remaining and current_score == best_new_score:\n",
    "        scores_with_candidates = []\n",
    "        for candidate in remaining:\n",
    "            formula = \"{} ~ {} + 1\".format(response,\n",
    "                                           ' + '.join(selected + [candidate]))\n",
    "            score = smf.ols(formula, data).fit().rsquared_adj\n",
    "            scores_with_candidates.append((score, candidate))\n",
    "        scores_with_candidates.sort()\n",
    "        best_new_score, best_candidate = scores_with_candidates.pop()\n",
    "        if current_score < best_new_score:\n",
    "            remaining.remove(best_candidate)\n",
    "            selected.append(best_candidate)\n",
    "            current_score = best_new_score\n",
    "    formula = \"{} ~ {} + 1\".format(response,\n",
    "                                   ' + '.join(selected))\n",
    "    model = smf.ols(formula, data).fit()\n",
    "    return model\n",
    "\n",
    "# source: http://trevor-smith.github.io/stepwise-post/"
   ]
  },
  {
   "cell_type": "code",
   "execution_count": 52,
   "metadata": {
    "collapsed": false
   },
   "outputs": [
    {
     "data": {
      "text/html": [
       "<table class=\"simpletable\">\n",
       "<caption>OLS Regression Results</caption>\n",
       "<tr>\n",
       "  <th>Dep. Variable:</th>           <td>mpg</td>       <th>  R-squared:         </th> <td>   0.806</td>\n",
       "</tr>\n",
       "<tr>\n",
       "  <th>Model:</th>                   <td>OLS</td>       <th>  Adj. R-squared:    </th> <td>   0.783</td>\n",
       "</tr>\n",
       "<tr>\n",
       "  <th>Method:</th>             <td>Least Squares</td>  <th>  F-statistic:       </th> <td>   35.98</td>\n",
       "</tr>\n",
       "<tr>\n",
       "  <th>Date:</th>             <td>Fri, 21 Jul 2017</td> <th>  Prob (F-statistic):</th> <td>2.10e-09</td>\n",
       "</tr>\n",
       "<tr>\n",
       "  <th>Time:</th>                 <td>14:52:08</td>     <th>  Log-Likelihood:    </th> <td>  44.884</td>\n",
       "</tr>\n",
       "<tr>\n",
       "  <th>No. Observations:</th>      <td>    30</td>      <th>  AIC:               </th> <td>  -81.77</td>\n",
       "</tr>\n",
       "<tr>\n",
       "  <th>Df Residuals:</th>          <td>    26</td>      <th>  BIC:               </th> <td>  -76.16</td>\n",
       "</tr>\n",
       "<tr>\n",
       "  <th>Df Model:</th>              <td>     3</td>      <th>                     </th>     <td> </td>   \n",
       "</tr>\n",
       "<tr>\n",
       "  <th>Covariance Type:</th>      <td>nonrobust</td>    <th>                     </th>     <td> </td>   \n",
       "</tr>\n",
       "</table>\n",
       "<table class=\"simpletable\">\n",
       "<tr>\n",
       "          <td></td>             <th>coef</th>     <th>std err</th>      <th>t</th>      <th>P>|t|</th> <th>[95.0% Conf. Int.]</th> \n",
       "</tr>\n",
       "<tr>\n",
       "  <th>Intercept</th>         <td>    0.9951</td> <td>    0.370</td> <td>    2.686</td> <td> 0.012</td> <td>    0.234     1.757</td>\n",
       "</tr>\n",
       "<tr>\n",
       "  <th>displacement</th>      <td>   -0.0010</td> <td>    0.000</td> <td>   -6.374</td> <td> 0.000</td> <td>   -0.001    -0.001</td>\n",
       "</tr>\n",
       "<tr>\n",
       "  <th>compression_ratio</th> <td>    0.0667</td> <td>    0.043</td> <td>    1.534</td> <td> 0.137</td> <td>   -0.023     0.156</td>\n",
       "</tr>\n",
       "<tr>\n",
       "  <th>transmission_type</th> <td>    0.0467</td> <td>    0.044</td> <td>    1.053</td> <td> 0.302</td> <td>   -0.044     0.138</td>\n",
       "</tr>\n",
       "</table>\n",
       "<table class=\"simpletable\">\n",
       "<tr>\n",
       "  <th>Omnibus:</th>       <td> 0.709</td> <th>  Durbin-Watson:     </th> <td>   1.713</td>\n",
       "</tr>\n",
       "<tr>\n",
       "  <th>Prob(Omnibus):</th> <td> 0.701</td> <th>  Jarque-Bera (JB):  </th> <td>   0.746</td>\n",
       "</tr>\n",
       "<tr>\n",
       "  <th>Skew:</th>          <td> 0.175</td> <th>  Prob(JB):          </th> <td>   0.689</td>\n",
       "</tr>\n",
       "<tr>\n",
       "  <th>Kurtosis:</th>      <td> 2.311</td> <th>  Cond. No.          </th> <td>1.08e+04</td>\n",
       "</tr>\n",
       "</table>"
      ],
      "text/plain": [
       "<class 'statsmodels.iolib.summary.Summary'>\n",
       "\"\"\"\n",
       "                            OLS Regression Results                            \n",
       "==============================================================================\n",
       "Dep. Variable:                    mpg   R-squared:                       0.806\n",
       "Model:                            OLS   Adj. R-squared:                  0.783\n",
       "Method:                 Least Squares   F-statistic:                     35.98\n",
       "Date:                Fri, 21 Jul 2017   Prob (F-statistic):           2.10e-09\n",
       "Time:                        14:52:08   Log-Likelihood:                 44.884\n",
       "No. Observations:                  30   AIC:                            -81.77\n",
       "Df Residuals:                      26   BIC:                            -76.16\n",
       "Df Model:                           3                                         \n",
       "Covariance Type:            nonrobust                                         \n",
       "=====================================================================================\n",
       "                        coef    std err          t      P>|t|      [95.0% Conf. Int.]\n",
       "-------------------------------------------------------------------------------------\n",
       "Intercept             0.9951      0.370      2.686      0.012         0.234     1.757\n",
       "displacement         -0.0010      0.000     -6.374      0.000        -0.001    -0.001\n",
       "compression_ratio     0.0667      0.043      1.534      0.137        -0.023     0.156\n",
       "transmission_type     0.0467      0.044      1.053      0.302        -0.044     0.138\n",
       "==============================================================================\n",
       "Omnibus:                        0.709   Durbin-Watson:                   1.713\n",
       "Prob(Omnibus):                  0.701   Jarque-Bera (JB):                0.746\n",
       "Skew:                           0.175   Prob(JB):                        0.689\n",
       "Kurtosis:                       2.311   Cond. No.                     1.08e+04\n",
       "==============================================================================\n",
       "\n",
       "Warnings:\n",
       "[1] Standard Errors assume that the covariance matrix of the errors is correctly specified.\n",
       "[2] The condition number is large, 1.08e+04. This might indicate that there are\n",
       "strong multicollinearity or other numerical problems.\n",
       "\"\"\""
      ]
     },
     "execution_count": 52,
     "metadata": {},
     "output_type": "execute_result"
    }
   ],
   "source": [
    "lm2 = forward_selected(log_df, 'mpg')\n",
    "lm2.summary()"
   ]
  },
  {
   "cell_type": "code",
   "execution_count": 53,
   "metadata": {
    "collapsed": false
   },
   "outputs": [
    {
     "data": {
      "text/plain": [
       "<matplotlib.text.Text at 0x1231c74d0>"
      ]
     },
     "execution_count": 53,
     "metadata": {},
     "output_type": "execute_result"
    },
    {
     "data": {
      "image/png": "[encoded data removed]",
      "text/plain": [
       "<matplotlib.figure.Figure at 0x1230bddd0>"
      ]
     },
     "metadata": {},
     "output_type": "display_data"
    }
   ],
   "source": [
    "#qqnorm plot\n",
    "fig = sm.qqplot(lm2.resid, fit=True, line='45')\n",
    "plt.show\n",
    "plt.title('QQ Norm Plot of Residuals')"
   ]
  },
  {
   "cell_type": "code",
   "execution_count": 61,
   "metadata": {
    "collapsed": false
   },
   "outputs": [
    {
     "data": {
      "text/plain": [
       "<matplotlib.text.Text at 0x123f34450>"
      ]
     },
     "execution_count": 61,
     "metadata": {},
     "output_type": "execute_result"
    },
    {
     "data": {
      "image/png": "[encoded data removed]",
      "text/plain": [
       "<matplotlib.figure.Figure at 0x123dc60d0>"
      ]
     },
     "metadata": {},
     "output_type": "display_data"
    }
   ],
   "source": [
    "#fitted values vs residuals\n",
    "plt.scatter(lm2.fittedvalues, lm2.resid)\n",
    "plt.xlabel('Predicted MPG')\n",
    "plt.ylabel('Residuals')\n",
    "plt.title('Predicted MPG vs. Residuals')"
   ]
  },
  {
   "cell_type": "markdown",
   "metadata": {},
   "source": [
    "## Compare MAE"
   ]
  },
  {
   "cell_type": "code",
   "execution_count": 55,
   "metadata": {
    "collapsed": false
   },
   "outputs": [
    {
     "name": "stdout",
     "output_type": "stream",
     "text": [
      "0.0383080225416\n",
      "0.0438075075768\n"
     ]
    }
   ],
   "source": [
    "import sklearn.metrics as skm\n",
    "print skm.mean_absolute_error(log_df[\"mpg\"], lm1.fittedvalues, sample_weight=None, multioutput='uniform_average')\n",
    "print skm.mean_absolute_error(log_df[\"mpg\"], lm2.fittedvalues, sample_weight=None, multioutput='uniform_average')"
   ]
  },
  {
   "cell_type": "code",
   "execution_count": null,
   "metadata": {
    "collapsed": true
   },
   "outputs": [],
   "source": []
  }
 ],
 "metadata": {
  "kernelspec": {
   "display_name": "Python 2",
   "language": "python",
   "name": "python2"
  },
  "language_info": {
   "codemirror_mode": {
    "name": "ipython",
    "version": 2
   },
   "file_extension": ".py",
   "mimetype": "text/x-python",
   "name": "python",
   "nbconvert_exporter": "python",
   "pygments_lexer": "ipython2",
   "version": "2.7.11"
  }
 },
 "nbformat": 4,
 "nbformat_minor": 0
}
